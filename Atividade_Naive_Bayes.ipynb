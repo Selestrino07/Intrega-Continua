{
  "nbformat": 4,
  "nbformat_minor": 0,
  "metadata": {
    "colab": {
      "provenance": [],
      "toc_visible": true,
      "authorship_tag": "ABX9TyNvM4fGCezwfMHPtf3y4qtg",
      "include_colab_link": true
    },
    "kernelspec": {
      "name": "python3",
      "display_name": "Python 3"
    },
    "language_info": {
      "name": "python"
    }
  },
  "cells": [
    {
      "cell_type": "markdown",
      "metadata": {
        "id": "view-in-github",
        "colab_type": "text"
      },
      "source": [
        "<a href=\"https://colab.research.google.com/github/Selestrino07/Intrega-Continua/blob/main/Atividade_Naive_Bayes.ipynb\" target=\"_parent\"><img src=\"https://colab.research.google.com/assets/colab-badge.svg\" alt=\"Open In Colab\"/></a>"
      ]
    },
    {
      "cell_type": "markdown",
      "source": [
        "**1) O Alerta de Incêndio na Biblioteca**\n",
        "\n",
        "O Alerta de Incêndio na Biblioteca Em uma biblioteca de grande porte, há um sistema de alarme de incêndio que dispara caso detecte fumaça. No entanto, sabe-se que o alarme não é perfeito. A probabilidade de realmente haver um incêndio na biblioteca em qualquer dia é de 0,5%. O sistema de alarme tem uma sensibilidade de 95% (ou seja, detecta corretamente 95% dos incêndios), mas também tem uma taxa de falso positivo de 3% (dispara erroneamente mesmo sem incêndio). Se o alarme disparou em um determinado dia, qual é a probabilidade de realmente haver um incêndio?"
      ],
      "metadata": {
        "id": "HnKF8DrPlPoZ"
      }
    },
    {
      "cell_type": "code",
      "source": [
        "# Definindo as probabilidades fornecidas\n",
        "P_I = 0.05  # Probabilidade de incêndio\n",
        "P_not_I = 1 - P_I  # Probabilidade de não haver incêndio\n",
        "\n",
        "P_A_pos_given_I = 0.95  # Probabilidade de o alarme disparar dado que há um incêndio\n",
        "P_A_pos_given_not_I = 0.03  # Probabilidade de o alarme disparar dado que não há incêndio\n"
      ],
      "metadata": {
        "id": "3AYAbuSzlgfx"
      },
      "execution_count": null,
      "outputs": []
    },
    {
      "cell_type": "code",
      "source": [
        "# Calculando a probabilidade total de o alarme disparar (P(A+))\n",
        "P_A_pos = P_A_pos_given_I * P_I + P_A_pos_given_not_I * P_not_I"
      ],
      "metadata": {
        "id": "rK0WL1Pol4dr"
      },
      "execution_count": null,
      "outputs": []
    },
    {
      "cell_type": "code",
      "source": [
        "# Calculando a probabilidade de haver um incêndio dado que o alarme disparou (P(I | A+))\n",
        "P_I_given_A_pos = (P_A_pos_given_I * P_I) / P_A_pos"
      ],
      "metadata": {
        "id": "52Z86XGNl42h"
      },
      "execution_count": null,
      "outputs": []
    },
    {
      "cell_type": "markdown",
      "source": [
        "**2) O Teste Anti-Doping no Atletismo**\n",
        "\n",
        " Uma federação de atletismo aplica um teste antidoping nos atletas antes de competições internacionais. Estatísticas indicam que apenas 2% dos atletas realmente usam substâncias proibidas. O teste tem uma taxa de acerto de 98% para detectar os usuários de doping, mas também apresenta 5% de falsos positivos (ou seja, acusa incorretamente um atleta limpo). Se um atleta recebe um teste positivo, qual a probabilidade de que ele realmente tenha utilizado doping?"
      ],
      "metadata": {
        "id": "3UO2sgVakfy-"
      }
    },
    {
      "cell_type": "code",
      "source": [
        "# Exibindo o resultado\n",
        "print(f\"A probabilidade de haver um incêndio dado que o alarme disparou é {P_I_given_A_pos:.4f}\")"
      ],
      "metadata": {
        "colab": {
          "base_uri": "https://localhost:8080/"
        },
        "id": "oNhEoGyTl4_Z",
        "outputId": "507cf774-94ac-40ce-b698-fde6649d47f8"
      },
      "execution_count": null,
      "outputs": [
        {
          "output_type": "stream",
          "name": "stdout",
          "text": [
            "A probabilidade de haver um incêndio dado que o alarme disparou é 0.6250\n"
          ]
        }
      ]
    },
    {
      "cell_type": "code",
      "execution_count": null,
      "metadata": {
        "id": "KEne0IMdkYZ8"
      },
      "outputs": [],
      "source": [
        "# Definindo as variáveis fornecidas\n",
        "P_D = 0.02  # Probabilidade de um atleta usar doping\n",
        "P_not_D = 1 - P_D  # Probabilidade de um atleta não usar doping\n",
        "\n",
        "P_T_pos_given_D = 0.98  # Probabilidade de teste positivo dado que o atleta usa doping\n",
        "P_T_pos_given_not_D = 0.05  # Probabilidade de teste positivo dado que o atleta não usa doping\n"
      ]
    },
    {
      "cell_type": "code",
      "source": [
        "# Definindo o número total de atletas\n",
        "total_atletas = 1000\n",
        "\n",
        "# Calculando o número de atletas em cada categoria\n",
        "atletas_com_doping = P_D * total_atletas\n",
        "atletas_sem_doping = P_not_D * total_atletas\n"
      ],
      "metadata": {
        "id": "eKXrYL3xkr0I"
      },
      "execution_count": null,
      "outputs": []
    },
    {
      "cell_type": "markdown",
      "source": [
        "3) Identificação de Fraudes em Cartões de\n",
        "Crédito\n",
        "\n",
        "Um sistema bancário monitora transações para detectar fraudes em cartões de crédito. A\n",
        "incidência de fraudes entre todas as transações é de 0,1%. O algoritmo de detecção tem uma\n",
        "precisão de 99% ao identificar transações fraudulentas, mas gera um falso positivo em 2% das\n",
        "transações legítimas. Se uma transação for sinalizada como fraudulenta, qual a probabilidade\n",
        "de que realmente seja uma fraude?"
      ],
      "metadata": {
        "id": "PH1is6-Gm4zm"
      }
    },
    {
      "cell_type": "code",
      "source": [
        "# Calculando VP, FP, VN e FN\n",
        "VP = P_T_pos_given_D * atletas_com_doping  # Verdadeiros Positivos\n",
        "FP = P_T_pos_given_not_D * atletas_sem_doping  # Falsos Positivos\n",
        "VN = (1 - P_T_pos_given_not_D) * atletas_sem_doping  # Verdadeiros Negativos\n",
        "FN = (1 - P_T_pos_given_D) * atletas_com_doping  # Falsos Negativos\n",
        "\n"
      ],
      "metadata": {
        "id": "aH0CNY1qksbB"
      },
      "execution_count": null,
      "outputs": []
    },
    {
      "cell_type": "code",
      "source": [
        "# Calculando a acurácia\n",
        "acuracia = (VP + VN) / (VP + VN + FP + FN)\n",
        "print(f\"Acurácia do teste: {acuracia:.4f}\")\n"
      ],
      "metadata": {
        "colab": {
          "base_uri": "https://localhost:8080/"
        },
        "id": "ShiCbsXjksow",
        "outputId": "6f7b793c-4992-4790-ca13-8b99af276eb3"
      },
      "execution_count": null,
      "outputs": [
        {
          "output_type": "stream",
          "name": "stdout",
          "text": [
            "Acurácia do teste: 0.9506\n"
          ]
        }
      ]
    },
    {
      "cell_type": "code",
      "source": [
        "# Definindo as probabilidades fornecidas\n",
        "P_F = 0.001  # Probabilidade de uma transação ser fraudulenta\n",
        "P_not_F = 1 - P_F  # Probabilidade de uma transação ser legítima\n",
        "\n",
        "P_T_pos_given_F = 0.99  # Probabilidade de sinalizar fraudulenta dado que a transação é fraudulenta\n",
        "P_T_pos_given_not_F = 0.02  # Probabilidade de sinalizar fraudulenta dado que a transação não é fraudulenta\n"
      ],
      "metadata": {
        "id": "ntV4-A2grW3f"
      },
      "execution_count": null,
      "outputs": []
    },
    {
      "cell_type": "code",
      "source": [
        "# Calculando a probabilidade total de o sistema sinalizar uma transação como fraudulenta (P(T+))\n",
        "P_T_pos = P_T_pos_given_F * P_F + P_T_pos_given_not_F * P_not_F\n"
      ],
      "metadata": {
        "id": "betnAS8UrXlH"
      },
      "execution_count": null,
      "outputs": []
    },
    {
      "cell_type": "code",
      "source": [
        "# Calculando a probabilidade de que realmente seja uma fraude dado que foi sinalizada como fraudulenta (P(F | T+))\n",
        "P_F_given_T_pos = (P_T_pos_given_F * P_F) / P_T_pos"
      ],
      "metadata": {
        "id": "54nJfim6rXuA"
      },
      "execution_count": null,
      "outputs": []
    },
    {
      "cell_type": "code",
      "source": [
        "# Exibindo o resultado\n",
        "print(f\"A probabilidade de uma transação ser fraudulenta dado que foi sinalizada como fraudulenta é {P_F_given_T_pos:.4f}\")"
      ],
      "metadata": {
        "colab": {
          "base_uri": "https://localhost:8080/"
        },
        "id": "KqFpVAjarXx_",
        "outputId": "7064f82b-4db8-4ac1-da60-f5af4612a4c8"
      },
      "execution_count": null,
      "outputs": [
        {
          "output_type": "stream",
          "name": "stdout",
          "text": [
            "A probabilidade de uma transação ser fraudulenta dado que foi sinalizada como fraudulenta é 0.0472\n"
          ]
        }
      ]
    },
    {
      "cell_type": "markdown",
      "source": [
        "4) **Diagnóstico de uma Doença Rara**\n",
        "\n",
        "Uma nova doença rara afeta apenas 0,05% da população. Um teste desenvolvido para detectar\n",
        "essa doença tem uma sensibilidade de 97% (ou seja, detecta corretamente os casos positivos),\n",
        "mas também tem uma taxa de 4% de falsos positivos. Se uma pessoa recebe um resultado\n",
        "positivo no teste, qual é a probabilidade de ela realmente estar doente?"
      ],
      "metadata": {
        "id": "-CKS_tCrrtzH"
      }
    },
    {
      "cell_type": "code",
      "source": [
        "# Definindo as probabilidades fornecidas\n",
        "P_D = 0.0005  # Probabilidade de uma pessoa estar doente\n",
        "P_not_D = 1 - P_D  # Probabilidade de uma pessoa não estar doente\n",
        "\n",
        "P_T_pos_given_D = 0.97  # Probabilidade de o teste ser positivo dado que a pessoa está doente\n",
        "P_T_pos_given_not_D = 0.04  # Probabilidade de o teste ser positivo dado que a pessoa não está doente\n"
      ],
      "metadata": {
        "id": "_52lhmLauSMA"
      },
      "execution_count": null,
      "outputs": []
    },
    {
      "cell_type": "code",
      "source": [
        "# Calculando a probabilidade total de o teste dar positivo (P(T+))\n",
        "P_T_pos = P_T_pos_given_D * P_D + P_T_pos_given_not_D * P_not_D\n",
        "\n",
        "# Calculando a probabilidade de a pessoa estar doente dado que o teste deu positivo (P(D | T+))\n",
        "P_D_given_T_pos = (P_T_pos_given_D * P_D) / P_T_pos\n"
      ],
      "metadata": {
        "id": "Ld93EdQRuSDG"
      },
      "execution_count": null,
      "outputs": []
    },
    {
      "cell_type": "code",
      "source": [
        "# Exibindo o resultado\n",
        "print(f\"A probabilidade de a pessoa estar doente dado que o teste deu positivo é {P_D_given_T_pos:.4f}\")"
      ],
      "metadata": {
        "colab": {
          "base_uri": "https://localhost:8080/"
        },
        "id": "0Dp6vLDHuRP3",
        "outputId": "88595a2c-15d9-42b6-9981-4f2e1a493179"
      },
      "execution_count": null,
      "outputs": [
        {
          "output_type": "stream",
          "name": "stdout",
          "text": [
            "A probabilidade de a pessoa estar doente dado que o teste deu positivo é 0.0120\n"
          ]
        }
      ]
    },
    {
      "cell_type": "markdown",
      "source": [
        "5) **Detecção de Malware em Arquivos**\n",
        "\n",
        "\n",
        "Uma empresa de segurança digital utiliza um software para detectar arquivos maliciosos em\n",
        "seu sistema. Em média, 0,3% dos arquivos recebidos são realmente malwares. O detector\n",
        "possui uma taxa de detecção correta de 96%, mas gera 1,5% de falsos positivos. Se um\n",
        "arquivo for sinalizado como malware, qual é a probabilidade de que ele realmente seja\n",
        "malicioso?"
      ],
      "metadata": {
        "id": "lafe5g1NswUM"
      }
    },
    {
      "cell_type": "code",
      "source": [
        "# Definindo as probabilidades fornecidas\n",
        "P_M = 0.003  # Probabilidade de um arquivo ser malware\n",
        "P_not_M = 1 - P_M  # Probabilidade de um arquivo não ser malware\n",
        "\n",
        "P_T_pos_given_M = 0.96  # Probabilidade de o detector sinalizar como malware dado que é malware\n",
        "P_T_pos_given_not_M = 0.015  # Probabilidade de o detector sinalizar como malware dado que não é malware"
      ],
      "metadata": {
        "id": "xiNCww51ui2A"
      },
      "execution_count": null,
      "outputs": []
    },
    {
      "cell_type": "code",
      "source": [
        "# Calculando a probabilidade total de o detector sinalizar como malware (P(T+))\n",
        "P_T_pos = P_T_pos_given_M * P_M + P_T_pos_given_not_M * P_not_M\n"
      ],
      "metadata": {
        "id": "SgvLI5t4uixA"
      },
      "execution_count": null,
      "outputs": []
    },
    {
      "cell_type": "code",
      "source": [
        "# Calculando a probabilidade de que o arquivo seja realmente malware dado que foi sinalizado como tal (P(M | T+))\n",
        "P_M_given_T_pos = (P_T_pos_given_M * P_M) / P_T_pos"
      ],
      "metadata": {
        "id": "ZOkjTXyauiq3"
      },
      "execution_count": null,
      "outputs": []
    },
    {
      "cell_type": "code",
      "source": [
        "# Exibindo o resultado\n",
        "print(f\"A probabilidade de que o arquivo seja realmente malware dado que foi sinalizado como tal é {P_M_given_T_pos:.4f}\")"
      ],
      "metadata": {
        "colab": {
          "base_uri": "https://localhost:8080/"
        },
        "id": "KKgeX3z3uiZv",
        "outputId": "0128ee5f-dcb8-464e-c886-01d864875c93"
      },
      "execution_count": null,
      "outputs": [
        {
          "output_type": "stream",
          "name": "stdout",
          "text": [
            "A probabilidade de que o arquivo seja realmente malware dado que foi sinalizado como tal é 0.1615\n"
          ]
        }
      ]
    },
    {
      "cell_type": "markdown",
      "source": [
        "6) **Identificação de Motoristas Embriagados**\n",
        "\n",
        "Em uma cidade, policiais realizam testes de bafômetro para identificar motoristas dirigindo sob\n",
        "efeito de álcool. Estima-se que 4% dos motoristas estejam dirigindo alcoolizados. O teste tem\n",
        "uma taxa de acerto de 92% para motoristas embriagados, mas também tem 7% de falsos\n",
        "positivos. Se um motorista for identificado pelo teste como embriagado, qual é a probabilidade\n",
        "de ele realmente estar alcoolizado?\n"
      ],
      "metadata": {
        "id": "1s-cqLyTvP6Y"
      }
    },
    {
      "cell_type": "code",
      "source": [
        "# Definindo as probabilidades fornecidas\n",
        "P_A = 0.04  # Probabilidade de o motorista estar alcoolizado\n",
        "P_not_A = 1 - P_A  # Probabilidade de o motorista não estar alcoolizado\n",
        "\n",
        "P_T_pos_given_A = 0.92  # Probabilidade de o teste ser positivo dado que o motorista está alcoolizado\n",
        "P_T_pos_given_not_A = 0.07  # Probabilidade de o teste ser positivo dado que o motorista não está alcoolizado"
      ],
      "metadata": {
        "id": "FT7_WtZY0H1_"
      },
      "execution_count": null,
      "outputs": []
    },
    {
      "cell_type": "code",
      "source": [
        "# Calculando a probabilidade total de o teste dar positivo (P(T+))\n",
        "P_T_pos = P_T_pos_given_A * P_A + P_T_pos_given_not_A * P_not_A\n"
      ],
      "metadata": {
        "id": "p7MPRsGq0IXn"
      },
      "execution_count": null,
      "outputs": []
    },
    {
      "cell_type": "code",
      "source": [
        "# Calculando a probabilidade de o motorista estar alcolizado dado que o teste deu positivo (P(A | T+))\n",
        "P_A_given_T_pos = (P_T_pos_given_A * P_A) / P_T_pos\n"
      ],
      "metadata": {
        "id": "vGIZRLeM0Ie3"
      },
      "execution_count": null,
      "outputs": []
    },
    {
      "cell_type": "code",
      "source": [
        "# Exibindo o resultado\n",
        "print(f\"A probabilidade de o motorista estar alcoolizado dado que o teste deu positivo é {P_A_given_T_pos:.4f}\")"
      ],
      "metadata": {
        "colab": {
          "base_uri": "https://localhost:8080/"
        },
        "id": "exAgfaC_0Ijn",
        "outputId": "23c8824f-ee5c-4375-bc12-ab0ab0fe75bd"
      },
      "execution_count": null,
      "outputs": [
        {
          "output_type": "stream",
          "name": "stdout",
          "text": [
            "A probabilidade de o motorista estar alcoolizado dado que o teste deu positivo é 0.3538\n"
          ]
        }
      ]
    },
    {
      "cell_type": "markdown",
      "source": [
        "**7) Teste de Eficiência de uma Nova Vacina**\n",
        "\n",
        "Um laboratório desenvolveu uma nova vacina contra um vírus. Em uma população de 100.000\n",
        "pessoas, 2% realmente estão infectadas. O teste desenvolvido para avaliar a eficácia da vacina\n",
        "identifica corretamente 98% dos infectados, mas também gera 3% de falsos positivos. Se um\n",
        "indivíduo testado for considerado infectado, qual a probabilidade de ele realmente estar\n",
        "doente?"
      ],
      "metadata": {
        "id": "J874apdlyIBy"
      }
    },
    {
      "cell_type": "code",
      "source": [
        "# Definindo as probabilidades fornecidas\n",
        "P_A = 0.02  # Probabilidade de as pessoas estarem infectadas\n",
        "P_not_A = 1 - P_A  # Probabilidade de indiviudo estar infecatado\n",
        "\n",
        "P_T_pos_given_A = 0.98  # Probabilidade de o teste ser positivo dado que a eficácia da vacina identifica\n",
        "P_T_pos_given_not_A = 0.3  # Probabilidade de o teste ser falsos positivo"
      ],
      "metadata": {
        "id": "eZelMgeg5t2k"
      },
      "execution_count": null,
      "outputs": []
    },
    {
      "cell_type": "code",
      "source": [
        "# Calculando a probabilidade de o motorista estar alcolizado dado que o teste deu positivo (P(A | T+))\n",
        "P_A_given_T_pos = (P_T_pos_given_A * P_A) / P_T_pos"
      ],
      "metadata": {
        "id": "DeTgzwQd4vHs"
      },
      "execution_count": null,
      "outputs": []
    },
    {
      "cell_type": "code",
      "source": [
        "# Exibindo o resultado\n",
        "print(f\"A probabilidade de um individuo ser considerado infectado dado que o teste deu positivo é {P_A_given_T_pos:.4f}\")"
      ],
      "metadata": {
        "colab": {
          "base_uri": "https://localhost:8080/"
        },
        "id": "2v29BYcS4vRF",
        "outputId": "df35c09f-a66f-49ba-a36e-824fd6f6cbda"
      },
      "execution_count": null,
      "outputs": [
        {
          "output_type": "stream",
          "name": "stdout",
          "text": [
            "A probabilidade de um individuo ser considerado infectado dado que o teste deu positivo é 0.1885\n"
          ]
        }
      ]
    },
    {
      "cell_type": "markdown",
      "source": [
        "**8) Alarme de Roubo em uma Loja**\n",
        "\n",
        "Uma loja de conveniência instalou um alarme de segurança para detectar roubos. A\n",
        "probabilidade de um roubo ocorrer em um determinado dia é de 0,7%. O sistema de alarme é\n",
        "94% preciso ao detectar roubos, mas apresenta 4% de falsos positivos. Se o alarme disparar,\n",
        "qual a probabilidade de um roubo estar realmente ocorrendo"
      ],
      "metadata": {
        "id": "d4s2EXM7yTOq"
      }
    },
    {
      "cell_type": "code",
      "source": [
        "# Definindo as probabilidades fornecidas\n",
        "P_A = 0.7  # Probabilidade de O sistema de alarme\n",
        "P_not_A = 1 - P_A  # Probabilidade o alarame disparar\n",
        "\n",
        "P_T_pos_given_A = 0.94  # Probabilidade positiva de o sistema de alarme\n",
        "P_T_pos_given_not_A = 0.4  # Probabilidade de o teste ser falsos positivo"
      ],
      "metadata": {
        "id": "UjpK-zsu701L"
      },
      "execution_count": null,
      "outputs": []
    },
    {
      "cell_type": "code",
      "source": [
        "# Calculando a probabilidade de o motorista estar alcolizado dado que o teste deu positivo (P(A | T+))\n",
        "P_A_given_T_pos = (P_T_pos_given_A * P_A) / P_T_pos"
      ],
      "metadata": {
        "id": "KFgyEMaR9dTK"
      },
      "execution_count": null,
      "outputs": []
    },
    {
      "cell_type": "code",
      "source": [
        "# Exibindo o resultado\n",
        "print(f\"A probabilidade do alarme disparar no momento de um roubo estar realmente acontecendo é de acuarácia {P_A_given_T_pos:.4f}\")"
      ],
      "metadata": {
        "colab": {
          "base_uri": "https://localhost:8080/"
        },
        "id": "ARwEMKrT7fdZ",
        "outputId": "07a4bf72-6194-4d81-e143-cf63d0ef8e6d"
      },
      "execution_count": null,
      "outputs": [
        {
          "output_type": "stream",
          "name": "stdout",
          "text": [
            "A probabilidade do alarme disparar no momento de um roubo estar realmente acontecendo é de acuarácia 6.3269\n"
          ]
        }
      ]
    },
    {
      "cell_type": "markdown",
      "source": [
        "**9) Teste de Contaminação na Água**\n",
        "\n",
        "Um município monitora a qualidade da água através de testes químicos. A chance de a água\n",
        "estar contaminada é de 1,5%. O teste de detecção de contaminantes tem uma taxa de acerto\n",
        "de 98%, mas gera 2% de falsos positivos. Se um teste indicar que a água está contaminada,\n",
        "qual é a probabilidade de que realmente esteja?"
      ],
      "metadata": {
        "id": "lzqMzEWdyf6K"
      }
    },
    {
      "cell_type": "code",
      "source": [
        "# Probabilidades dadas no problema\n",
        "P_C = 0.015  # Probabilidade de a água estar contaminada\n",
        "P_T_pos_given_C = 0.98  # Taxa de acerto do teste\n",
        "P_T_pos_given_not_C = 0.02  # Taxa de falsos positivos\n",
        "P_not_C = 1 - P_C  # Probabilidade de a água não estar contaminada"
      ],
      "metadata": {
        "id": "QU8ZgI8i9YDq"
      },
      "execution_count": null,
      "outputs": []
    },
    {
      "cell_type": "code",
      "source": [
        "# Calculando a probabilidade total de o teste ser positivo (P(T+))\n",
        "P_T_pos = P_T_pos_given_C * P_C + P_T_pos_given_not_C * P_not_C\n"
      ],
      "metadata": {
        "id": "a-XzZ1tj9YaR"
      },
      "execution_count": null,
      "outputs": []
    },
    {
      "cell_type": "code",
      "source": [
        "# Aplicando o Teorema de Bayes para calcular P(C | T+)\n",
        "P_C_given_T_pos = (P_T_pos_given_C * P_C) / P_T_pos"
      ],
      "metadata": {
        "id": "O3cr3Nnc9YgL"
      },
      "execution_count": null,
      "outputs": []
    },
    {
      "cell_type": "code",
      "source": [
        "# Exibindo o resultado\n",
        "print(f\"A probabilidade de a água estar contaminada dado que o teste deu positivo de acurácia é: {P_C_given_T_pos:.4f}\")"
      ],
      "metadata": {
        "id": "-_nYLQkP9Ym4",
        "colab": {
          "base_uri": "https://localhost:8080/"
        },
        "outputId": "3fbd1afe-0a1a-47d6-ee5d-77496f3daa9f"
      },
      "execution_count": null,
      "outputs": [
        {
          "output_type": "stream",
          "name": "stdout",
          "text": [
            "A probabilidade de a água estar contaminada dado que o teste deu positivo de acurácia é: 0.4273\n"
          ]
        }
      ]
    },
    {
      "cell_type": "markdown",
      "source": [
        "**10) Inspeção de Qualidade em uma Fábrica**\n",
        "\n",
        "Uma fábrica de eletrônicos realiza inspeções em seus produtos para verificar defeitos. A taxa\n",
        "real de defeitos é de 0,8%. O sistema de inspeção detecta corretamente 95% dos produtos\n",
        "defeituosos, mas classifica erroneamente 3% dos produtos bons como defeituosos. Se um\n",
        "produto for considerado defeituoso, qual a probabilidade de ele realmente ter um defeito?\n"
      ],
      "metadata": {
        "id": "O2SC5T-Uyo46"
      }
    },
    {
      "cell_type": "code",
      "source": [
        " #Probabilidades dadas no problema\n",
        "P_D = 0.008  # Probabilidade de um produto ter defeito\n",
        "P_T_pos_given_D = 0.95  # Taxa de acerto do sistema\n",
        "P_T_pos_given_not_D = 0.03  # Taxa de falsos positivos\n",
        "P_not_D = 1 - P_D  # Probabilidade de um produto não ter defeito"
      ],
      "metadata": {
        "id": "Ij4PbTDhFQ7k"
      },
      "execution_count": null,
      "outputs": []
    },
    {
      "cell_type": "code",
      "source": [
        "# Calculando a probabilidade total de o sistema classificar o produto como defeituoso (P(T+))\n",
        "P_T_pos = P_T_pos_given_D * P_D + P_T_pos_given_not_D * P_not_D\n"
      ],
      "metadata": {
        "id": "nymu-6D1FSzL"
      },
      "execution_count": null,
      "outputs": []
    },
    {
      "cell_type": "code",
      "source": [
        "# Aplicando o Teorema de Bayes para calcular P(D | T+)\n",
        "P_D_given_T_pos = (P_T_pos_given_D * P_D) / P_T_pos\n"
      ],
      "metadata": {
        "id": "FZdR00bLFSvE"
      },
      "execution_count": null,
      "outputs": []
    },
    {
      "cell_type": "code",
      "source": [
        "# Exibindo o resultado\n",
        "print(f\"A probabilidade de um produto realmente ter defeito dado que o sistema o classificou como defeituoso a acurácia é: {P_D_given_T_pos:.4f}\")"
      ],
      "metadata": {
        "colab": {
          "base_uri": "https://localhost:8080/"
        },
        "id": "Y0g8wcZ7FSpj",
        "outputId": "8e7d5225-9cd2-4a88-9a1a-a224003b38c6"
      },
      "execution_count": null,
      "outputs": [
        {
          "output_type": "stream",
          "name": "stdout",
          "text": [
            "A probabilidade de um produto realmente ter defeito dado que o sistema o classificou como defeituoso a acurácia é: 0.2034\n"
          ]
        }
      ]
    },
    {
      "cell_type": "markdown",
      "source": [
        "**11) Triagem de Candidatos em uma Entrevista**\n",
        "\n",
        "Uma empresa recebe candidatos para um processo seletivo e aplica um teste eliminatório.\n",
        "Apenas 5% dos candidatos têm o perfil adequado para a vaga. O teste identifica corretamente\n",
        "90% dos candidatos adequados, mas rejeita incorretamente 8% dos inadequados. Se um\n",
        "candidato for aprovado no teste, qual a probabilidade de ele realmente ser adequado para a\n",
        "vaga?"
      ],
      "metadata": {
        "id": "snf3OYray0lD"
      }
    },
    {
      "cell_type": "code",
      "source": [
        "# Probabilidades dadas no problema\n",
        "P_A = 0.05  # Probabilidade de um candidato ser adequado para a vaga\n",
        "P_T_pos_given_A = 0.90  # Taxa de acerto do teste (candidato adequado)\n",
        "P_T_pos_given_not_A = 0.08  # Taxa de falsos positivos do teste (candidato inadequado)\n",
        "P_not_A = 1 - P_A  # Probabilidade de um candidato não ser adequado\n"
      ],
      "metadata": {
        "id": "3-mwDaKRI19v"
      },
      "execution_count": null,
      "outputs": []
    },
    {
      "cell_type": "code",
      "source": [
        "# Calculando a probabilidade total de um candidato ser aprovado no teste (P(T+))\n",
        "P_T_pos = P_T_pos_given_A * P_A + P_T_pos_given_not_A * P_not_A"
      ],
      "metadata": {
        "id": "DLsChVlYI2It"
      },
      "execution_count": null,
      "outputs": []
    },
    {
      "cell_type": "code",
      "source": [
        "# Aplicando o Teorema de Bayes para calcular P(A | T+)\n",
        "P_A_given_T_pos = (P_T_pos_given_A * P_A) / P_T_pos"
      ],
      "metadata": {
        "id": "tZGqGINrI9T0"
      },
      "execution_count": null,
      "outputs": []
    },
    {
      "cell_type": "code",
      "source": [
        "# Exibindo o resultado\n",
        "print(f\"A probabilidade de um candidato ser adequado para a vaga dado que ele foi aprovado no teste á acurácia é: {P_A_given_T_pos:.4f}\")"
      ],
      "metadata": {
        "colab": {
          "base_uri": "https://localhost:8080/"
        },
        "id": "C2nmNSdkI2R-",
        "outputId": "4b75ae1b-dc10-4ac9-af42-3bf78ef7bbe9"
      },
      "execution_count": null,
      "outputs": [
        {
          "output_type": "stream",
          "name": "stdout",
          "text": [
            "A probabilidade de um candidato ser adequado para a vaga dado que ele foi aprovado no teste á acurácia é: 0.3719\n"
          ]
        }
      ]
    },
    {
      "cell_type": "markdown",
      "source": [
        "**12) Detector de Mensagens Spam**\n",
        "\n",
        "Um provedor de e-mails usa um algoritmo para identificar mensagens de spam. Em média,\n",
        "15% dos e-mails recebidos são spam. O detector tem uma taxa de acerto de 96%, mas\n",
        "classifica erroneamente 5% dos e-mails legítimos como spam. Se um e-mail for marcado como\n",
        "spam, qual a probabilidade de ele realmente ser spam?"
      ],
      "metadata": {
        "id": "ugxPD3Emy-qj"
      }
    },
    {
      "cell_type": "code",
      "source": [
        "# Probabilidades dadas no problema\n",
        "P_S = 0.15  # Probabilidade de um e-mail ser spam\n",
        "P_T_pos_given_S = 0.96  # Taxa de acerto do detector (e-mail spam)\n",
        "P_T_pos_given_not_S = 0.05  # Taxa de falsos positivos do detector (e-mail legítimo como spam)\n",
        "P_not_S = 1 - P_S  # Probabilidade de um e-mail não ser spam"
      ],
      "metadata": {
        "id": "P6JOnKBaJeI3"
      },
      "execution_count": null,
      "outputs": []
    },
    {
      "cell_type": "code",
      "source": [
        "# Calculando a probabilidade total de um e-mail ser marcado como spam (P(T+))\n",
        "P_T_pos = P_T_pos_given_S * P_S + P_T_pos_given_not_S * P_not_S\n"
      ],
      "metadata": {
        "id": "hf52Q1-eJePv"
      },
      "execution_count": null,
      "outputs": []
    },
    {
      "cell_type": "code",
      "source": [
        "# Aplicando o Teorema de Bayes para calcular P(S | T+)\n",
        "P_S_given_T_pos = (P_T_pos_given_S * P_S) / P_T_pos\n"
      ],
      "metadata": {
        "id": "ADNyHCMjJeW4"
      },
      "execution_count": null,
      "outputs": []
    },
    {
      "cell_type": "code",
      "source": [
        "# Exibindo o resultado\n",
        "print(f\"A probabilidade de um e-mail ser realmente spam dado que ele foi marcado como spam de acurácia é: {P_S_given_T_pos:.4f}\")"
      ],
      "metadata": {
        "colab": {
          "base_uri": "https://localhost:8080/"
        },
        "id": "HMF4jW5-Jefv",
        "outputId": "1206e3a7-e5d9-47c3-fda4-fc0babe06954"
      },
      "execution_count": null,
      "outputs": [
        {
          "output_type": "stream",
          "name": "stdout",
          "text": [
            "A probabilidade de um e-mail ser realmente spam dado que ele foi marcado como spam de acurácia é: 0.7721\n"
          ]
        }
      ]
    },
    {
      "cell_type": "code",
      "source": [],
      "metadata": {
        "id": "kd7myM7mJell"
      },
      "execution_count": null,
      "outputs": []
    },
    {
      "cell_type": "markdown",
      "source": [
        "**13) Reconhecimento Facial em Aeroportos**\n",
        "\n",
        "Aeroportos utilizam sistemas de reconhecimento facial para identificar passageiros com\n",
        "mandados de prisão. Apenas 0,2% dos passageiros estão na lista de procurados. O sistema\n",
        "acerta 99% das identificações corretas, mas também gera 1% de falsos positivos. Se um\n",
        "passageiro for identificado como procurado, qual a probabilidade de ele realmente estar na\n",
        "lista?"
      ],
      "metadata": {
        "id": "lDvDYZTazHX9"
      }
    },
    {
      "cell_type": "code",
      "source": [
        "# Probabilidades dadas no problema\n",
        "P_P = 0.002  # Probabilidade de um passageiro estar na lista de procurados\n",
        "P_T_pos_given_P = 0.99  # Taxa de acerto do sistema (passageiro procurado)\n",
        "P_T_pos_given_not_P = 0.01  # Taxa de falsos positivos (passageiro não procurado)\n",
        "P_not_P = 1 - P_P  # Probabilidade de um passageiro não estar na lista de procurados"
      ],
      "metadata": {
        "id": "qXOH8-DMLdva"
      },
      "execution_count": null,
      "outputs": []
    },
    {
      "cell_type": "code",
      "source": [
        "# Calculando a probabilidade total de um passageiro ser identificado como procurado (P(T+))\n",
        "P_T_pos = P_T_pos_given_P * P_P + P_T_pos_given_not_P * P_not_P"
      ],
      "metadata": {
        "id": "guiOtIOqLd3y"
      },
      "execution_count": null,
      "outputs": []
    },
    {
      "cell_type": "code",
      "source": [
        "# Aplicando o Teorema de Bayes para calcular P(P | T+)\n",
        "P_P_given_T_pos = (P_T_pos_given_P * P_P) / P_T_pos"
      ],
      "metadata": {
        "id": "IIJVlrfFLd7C"
      },
      "execution_count": null,
      "outputs": []
    },
    {
      "cell_type": "code",
      "source": [
        "# Exibindo o resultado\n",
        "print(f\"A probabilidade de um passageiro estar realmente na lista de procurados dado que foi identificado como tal que a acurácia é: {P_P_given_T_pos:.4f}\")"
      ],
      "metadata": {
        "colab": {
          "base_uri": "https://localhost:8080/"
        },
        "id": "W2nGu3sNLd-h",
        "outputId": "fb813a68-0937-4416-b8d1-42ef88c4a3e6"
      },
      "execution_count": null,
      "outputs": [
        {
          "output_type": "stream",
          "name": "stdout",
          "text": [
            "A probabilidade de um passageiro estar realmente na lista de procurados dado que foi identificado como tal que a acurácia é: 0.1656\n"
          ]
        }
      ]
    },
    {
      "cell_type": "markdown",
      "source": [
        "**14) Teste de Fidelidade em Programas de Benefícios**\n",
        "\n",
        "Um supermercado utiliza um programa de fidelidade para oferecer descontos personalizados\n",
        "aos clientes mais frequentes. Apenas 10% dos clientes são considerados \"altamente fiéis\". O\n",
        "sistema identifica corretamente 95% desses clientes, mas classifica erroneamente 7% dos\n",
        "clientes regulares como altamente fiéis. Se um cliente for classificado como altamente fiel, qual\n",
        "a probabilidade de ele realmente pertencer a esse grupo?\n"
      ],
      "metadata": {
        "id": "NAxghYDWzQnD"
      }
    },
    {
      "cell_type": "code",
      "source": [
        "# Probabilidades dadas no problema\n",
        "P_A = 0.10  # Probabilidade de um cliente ser altamente fiel\n",
        "P_T_pos_given_A = 0.95  # Taxa de acerto do sistema (cliente altamente fiel)\n",
        "P_T_pos_given_not_A = 0.07  # Taxa de falsos positivos (cliente regular classificado como altamente fiel)\n",
        "P_not_A = 1 - P_A  # Probabilidade de um cliente não ser altamente fiel (cliente regular)"
      ],
      "metadata": {
        "id": "EaeOfYotMRml"
      },
      "execution_count": null,
      "outputs": []
    },
    {
      "cell_type": "code",
      "source": [
        "# Calculando a probabilidade total de um cliente ser classificado como altamente fiel (P(T+))\n",
        "P_T_pos = P_T_pos_given_A * P_A + P_T_pos_given_not_A * P_not_A\n"
      ],
      "metadata": {
        "id": "Uh2ErNAHMRp7"
      },
      "execution_count": null,
      "outputs": []
    },
    {
      "cell_type": "code",
      "source": [
        "# Aplicando o Teorema de Bayes para calcular P(A | T+)\n",
        "P_A_given_T_pos = (P_T_pos_given_A * P_A) / P_T_pos"
      ],
      "metadata": {
        "id": "WdtitRBuMRtF"
      },
      "execution_count": null,
      "outputs": []
    },
    {
      "cell_type": "code",
      "source": [
        "# Exibindo o resultado\n",
        "print(f\"A probabilidade de um cliente ser realmente altamente fiel dado que foi classificado como tal é de acurácia: {P_A_given_T_pos:.4f}\")"
      ],
      "metadata": {
        "colab": {
          "base_uri": "https://localhost:8080/"
        },
        "id": "jNVXTCdrMRxe",
        "outputId": "f877d513-1179-4af8-f5e5-122dee5faa84"
      },
      "execution_count": null,
      "outputs": [
        {
          "output_type": "stream",
          "name": "stdout",
          "text": [
            "A probabilidade de um cliente ser realmente altamente fiel dado que foi classificado como tal é de acurácia: 0.6013\n"
          ]
        }
      ]
    },
    {
      "cell_type": "markdown",
      "source": [
        "**15) Sensor de Qualidade do Ar**\n",
        "\n",
        "Uma cidade implementou sensores para medir a poluição do ar. Apenas 2% dos dias no ano\n",
        "apresentam níveis críticos de poluição. Os sensores detectam corretamente 97% dos dias\n",
        "críticos, mas também apresentam 3% de falsos positivos. Se um sensor indicar um dia como\n",
        "crítico, qual a probabilidade de realmente ser um dia de alta poluição"
      ],
      "metadata": {
        "id": "2fNDbDiOzb_l"
      }
    },
    {
      "cell_type": "code",
      "source": [
        "# Probabilidades dadas no problema\n",
        "P_C = 0.02  # Probabilidade de um dia ser de alta poluição (crítico)\n",
        "P_T_pos_given_C = 0.97  # Taxa de acerto do sensor (detectar um dia crítico)\n",
        "P_T_pos_given_not_C = 0.03  # Taxa de falsos positivos do sensor (detectar um dia não crítico)\n",
        "P_not_C = 1 - P_C  # Probabilidade de um dia não ser de alta poluição\n"
      ],
      "metadata": {
        "id": "Vxxh9yYSND1k"
      },
      "execution_count": null,
      "outputs": []
    },
    {
      "cell_type": "code",
      "source": [
        "# Calculando a probabilidade total de o sensor indicar um dia como crítico (P(T+))\n",
        "P_T_pos = P_T_pos_given_C * P_C + P_T_pos_given_not_C * P_not_C\n"
      ],
      "metadata": {
        "id": "FHYfDb6KNEEH"
      },
      "execution_count": null,
      "outputs": []
    },
    {
      "cell_type": "code",
      "source": [
        "# Aplicando o Teorema de Bayes para calcular P(C | T+)\n",
        "P_C_given_T_pos = (P_T_pos_given_C * P_C) / P_T_pos\n"
      ],
      "metadata": {
        "id": "eNQ4V-GnNNXe"
      },
      "execution_count": null,
      "outputs": []
    },
    {
      "cell_type": "code",
      "source": [
        "# Exibindo o resultado\n",
        "print(f\"A probabilidade de um dia ser realmente de alta poluição dado que o sensor indicou como crítico é: {P_C_given_T_pos:.4f}\")"
      ],
      "metadata": {
        "colab": {
          "base_uri": "https://localhost:8080/"
        },
        "id": "VEwC1NbCNEIm",
        "outputId": "b18a437a-4b33-4793-971d-d1b298036858"
      },
      "execution_count": null,
      "outputs": [
        {
          "output_type": "stream",
          "name": "stdout",
          "text": [
            "A probabilidade de um dia ser realmente de alta poluição dado que o sensor indicou como crítico é: 0.3975\n"
          ]
        }
      ]
    },
    {
      "cell_type": "markdown",
      "source": [],
      "metadata": {
        "id": "7rnF2k1oySsx"
      }
    }
  ]
}